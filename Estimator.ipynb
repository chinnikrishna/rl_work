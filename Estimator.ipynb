{
 "cells": [
  {
   "cell_type": "markdown",
   "id": "92e72da2",
   "metadata": {},
   "source": [
    "# Estimator\n",
    "Estimate the mean and variance of the population from sample mean."
   ]
  },
  {
   "cell_type": "code",
   "execution_count": 1,
   "id": "0fd19aee",
   "metadata": {},
   "outputs": [],
   "source": [
    "# Imports\n",
    "import numpy as np\n",
    "import matplotlib.pyplot as plt\n",
    "import pandas as pd\n",
    "import seaborn as sns"
   ]
  },
  {
   "cell_type": "code",
   "execution_count": 2,
   "id": "811ebd6a",
   "metadata": {},
   "outputs": [
    {
     "name": "stdout",
     "output_type": "stream",
     "text": [
      "(100, 1000)\n"
     ]
    }
   ],
   "source": [
    "\"\"\"\n",
    "Let us assume a factory is generating goods which are defective - 0 or good -1.\n",
    "Probability to generate a bad good is 20%, so p=0.2 for a bernoulli distribution.\n",
    "\"\"\"\n",
    "num_batches = 100\n",
    "goods_per_batch = 1000\n",
    "p = 0.2\n",
    "\n",
    "goods = []\n",
    "for batch in range(num_batches):\n",
    "    goods.append(np.random.choice([0, 1], size=goods_per_batch, p=[p, 1-p]))\n",
    "goods = np.asarray(goods)\n",
    "print(goods.shape)"
   ]
  },
  {
   "cell_type": "code",
   "execution_count": 3,
   "id": "9ddc1ed6",
   "metadata": {},
   "outputs": [],
   "source": [
    "\"\"\"\n",
    "Let us collect samples from each batch\n",
    "\"\"\"\n",
    "def collect_samples(num_samples=5):\n",
    "    samples = []\n",
    "    for batch in range(num_batches):\n",
    "        samples.append(np.random.choice(goods[batch], size=num_samples))\n",
    "    samples = np.asarray(samples)\n",
    "    return samples"
   ]
  },
  {
   "cell_type": "code",
   "execution_count": 9,
   "id": "10cfe7b1",
   "metadata": {},
   "outputs": [
    {
     "data": {
      "text/plain": [
       "(array([1., 3., 9., 3., 3., 0., 0., 0., 0., 1.]),\n",
       " array([0.786 , 0.7914, 0.7968, 0.8022, 0.8076, 0.813 , 0.8184, 0.8238,\n",
       "        0.8292, 0.8346, 0.84  ]),\n",
       " <BarContainer object of 10 artists>)"
      ]
     },
     "execution_count": 9,
     "metadata": {},
     "output_type": "execute_result"
    },
    {
     "data": {
      "image/png": "[encoded data removed]",
      "text/plain": [
       "<Figure size 432x288 with 1 Axes>"
      ]
     },
     "metadata": {
      "needs_background": "light"
     },
     "output_type": "display_data"
    }
   ],
   "source": [
    "msm = []\n",
    "for i in range(20):\n",
    "    num_samples = (i + 1) * 5\n",
    "    samples = collect_samples(num_samples)\n",
    "    sample_mean = [sum(samples[i]) / num_samples for i in range(num_batches)]\n",
    "    mean_sample_mean = np.mean(np.asarray(sample_mean))\n",
    "    msm.append(mean_sample_mean)\n",
    "plt.hist(msm)    \n",
    "    "
   ]
  },
  {
   "cell_type": "code",
   "execution_count": null,
   "id": "4f2a2a93",
   "metadata": {},
   "outputs": [],
   "source": []
  }
 ],
 "metadata": {
  "kernelspec": {
   "display_name": "Python 3",
   "language": "python",
   "name": "python3"
  },
  "language_info": {
   "codemirror_mode": {
    "name": "ipython",
    "version": 3
   },
   "file_extension": ".py",
   "mimetype": "text/x-python",
   "name": "python",
   "nbconvert_exporter": "python",
   "pygments_lexer": "ipython3",
   "version": "3.8.5"
  }
 },
 "nbformat": 4,
 "nbformat_minor": 5
}
