{
 "cells": [
  {
   "cell_type": "markdown",
   "id": "57da9a99",
   "metadata": {},
   "source": [
    "# Value Functions\n",
    "A policy is a mapping from characteristics to actions. Each environment can be solved by different policies. We can compare effectiveness of each policy using value functions.\n",
    "\n",
    "1. State Value Function\n",
    "2. Action Value Function\n",
    "3. Advantage Value Function\n",
    "\n",
    "State Value Function - $V_\\pi(s)$ \n",
    "\n",
    "takes a state as input and outputs expected return we would get if an agent starts starts in the input state and follows policy $\\pi$\n",
    "\n",
    "Action Value Function - $Q_\\pi(s,a)$ \n",
    "\n",
    "takes a state and action as input and outputs expected return we would get if an agent starts in the input state and takes action a and follows policy $\\pi$ after that.\n",
    "\n",
    "Advantage Value Function is the difference between $Q_\\pi(s,a)$ and $V_\\pi(s)$\n"
   ]
  },
  {
   "cell_type": "code",
   "execution_count": 1,
   "id": "49e1384b",
   "metadata": {},
   "outputs": [],
   "source": [
    "# Imports\n",
    "import numpy as np\n",
    "np.set_printoptions(formatter={'float': '{: 0.4f}'.format})\n",
    "np.random.seed(42)\n",
    "\n",
    "import matplotlib.pyplot as plt\n",
    "from pprint import pprint\n",
    "from bsw import BSW"
   ]
  },
  {
   "cell_type": "code",
   "execution_count": 2,
   "id": "156ec558",
   "metadata": {},
   "outputs": [],
   "source": [
    "\"\"\"\n",
    "Constants\n",
    "\"\"\"\n",
    "env = BSW()\n",
    "gamma = 0.9\n",
    "theta = 1e-10\n",
    "# We are evaluating a policy where we always go left\n",
    "action = 0\n"
   ]
  },
  {
   "cell_type": "code",
   "execution_count": 3,
   "id": "e0b65cf6",
   "metadata": {},
   "outputs": [
    {
     "name": "stdout",
     "output_type": "stream",
     "text": [
      "[ 0.0000  0.0005  0.0029  0.0135  0.0610  0.2745  0.0000]\n"
     ]
    }
   ],
   "source": [
    "\"\"\"\n",
    "State Value Function - MDP's transition function is observable\n",
    "\"\"\"\n",
    "def state_value_func(action, gamma, theta):\n",
    "    prev_svf = np.zeros(len(env.bsw_env))\n",
    "    while True:\n",
    "        svf = np.zeros(len(env.bsw_env))\n",
    "        # Access MDP transition function and go through states\n",
    "        for state in range(len(env.bsw_env)):\n",
    "            gamma_mul = gamma\n",
    "            for i, (prob, ns, reward, done) in enumerate(env.bsw_env[state][action]):\n",
    "                svf[state] += prob * (reward + ((gamma_mul ** i) * prev_svf[ns] * (not done)))\n",
    "        if np.max(np.abs(prev_svf - svf)) < theta:\n",
    "            break\n",
    "        prev_svf = svf.copy()\n",
    "    return svf\n",
    "v = state_value_func(action, gamma, theta)\n",
    "print(v)"
   ]
  },
  {
   "cell_type": "markdown",
   "id": "a7c2da11",
   "metadata": {},
   "source": [
    "## Estimating Value Functions by Interaction\n",
    "MDP's transition functions are not always fully observable like in the idle case above. We can interact with the environment, collect trajectories of MDP and estimate state value function from those trajectories. One way to do this is by Monte Carlo First Visit algorithm"
   ]
  },
  {
   "cell_type": "code",
   "execution_count": 5,
   "id": "52f178d2",
   "metadata": {},
   "outputs": [
    {
     "data": {
      "text/plain": [
       "[<matplotlib.lines.Line2D at 0x7fb9c19564f0>]"
      ]
     },
     "execution_count": 5,
     "metadata": {},
     "output_type": "execute_result"
    },
    {
     "data": {
      "image/png": "[encoded data removed]",
      "text/plain": [
       "<Figure size 432x288 with 1 Axes>"
      ]
     },
     "metadata": {
      "needs_background": "light"
     },
     "output_type": "display_data"
    }
   ],
   "source": [
    "\"\"\"\n",
    "State Value Functions - Estimating by interaction\n",
    "\"\"\"\n",
    "def mcsvf(first_visit=True, num_episodes=10000):\n",
    "    per_state_returns = np.zeros(len(env.bsw_env))\n",
    "    per_state_counts = np.zeros(len(env.bsw_env))\n",
    "    svf_est = np.zeros(len(env.bsw_env))\n",
    "    prev_svf_est = np.zeros(len(env.bsw_env))\n",
    "    \n",
    "    error = []\n",
    "    \n",
    "    for i in range(num_episodes):\n",
    "        state, reward, done = env.reset()\n",
    "        trajectory = []\n",
    "        visited = np.zeros(len(env.bsw_env), dtype=bool)\n",
    "        while not done:\n",
    "            next_state, reward, done = env.step(action)\n",
    "            trajectory.append((state, reward))\n",
    "            state = next_state\n",
    "        tra_states, tra_rewards = zip(*trajectory)\n",
    "        gammas = np.array([gamma ** i for i in range(len(trajectory) + 1)])\n",
    "\n",
    "        for t, s in enumerate(tra_states):\n",
    "            if visited[s] and first_visit:\n",
    "                continue\n",
    "            visited[s] = True\n",
    "            per_state_counts[s] += 1\n",
    "            G = np.sum(gammas[:-(1+t)] * tra_rewards[t:])\n",
    "            svf_est[s] += (G - svf_est[s]) / per_state_counts[s]\n",
    "        if i % 100 == 0:\n",
    "            error.append(np.sum(np.abs(v - svf_est)))\n",
    "    return svf_est, error\n",
    "\n",
    "_, fv_error  = mcsvf()\n",
    "_, ev_error = mcsvf(first_visit=True)\n",
    "plt.plot(fv_error)\n",
    "plt.plot(ev_error)\n",
    "\n"
   ]
  },
  {
   "cell_type": "code",
   "execution_count": null,
   "id": "9a8ae551",
   "metadata": {},
   "outputs": [],
   "source": []
  }
 ],
 "metadata": {
  "kernelspec": {
   "display_name": "Python 3",
   "language": "python",
   "name": "python3"
  },
  "language_info": {
   "codemirror_mode": {
    "name": "ipython",
    "version": 3
   },
   "file_extension": ".py",
   "mimetype": "text/x-python",
   "name": "python",
   "nbconvert_exporter": "python",
   "pygments_lexer": "ipython3",
   "version": "3.8.5"
  }
 },
 "nbformat": 4,
 "nbformat_minor": 5
}
